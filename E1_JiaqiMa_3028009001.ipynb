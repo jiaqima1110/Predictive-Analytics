{
 "cells": [
  {
   "cell_type": "markdown",
   "metadata": {},
   "source": [
    "# Exam 1"
   ]
  },
  {
   "cell_type": "markdown",
   "metadata": {},
   "source": [
    "## Jiaqi Ma"
   ]
  },
  {
   "cell_type": "markdown",
   "metadata": {},
   "source": [
    "## USC ID: 3028009001"
   ]
  },
  {
   "cell_type": "code",
   "execution_count": null,
   "metadata": {},
   "outputs": [],
   "source": [
    "import numpy as np\n",
    "import pandas as pd\n",
    "import matplotlib.pyplot as plt\n",
    "\n",
    "import statsmodels.api as sm\n",
    "import statsmodels.formula.api as smf\n",
    "from sklearn.linear_model import LinearRegression\n",
    "from sklearn.preprocessing import PolynomialFeatures"
   ]
  },
  {
   "cell_type": "code",
   "execution_count": null,
   "metadata": {},
   "outputs": [],
   "source": [
    "def mean_absolute_percentage_error(y, y_pred):\n",
    "    y = np.array(y)\n",
    "    y_pred = np.array(y_pred)\n",
    "    return 100 * np.mean(np.abs((y - y_pred) / y))"
   ]
  },
  {
   "cell_type": "code",
   "execution_count": null,
   "metadata": {},
   "outputs": [],
   "source": [
    "df = pd.read_excel('sce.xlsx')"
   ]
  },
  {
   "cell_type": "code",
   "execution_count": null,
   "metadata": {},
   "outputs": [],
   "source": [
    "df[:5]"
   ]
  },
  {
   "cell_type": "markdown",
   "metadata": {},
   "source": [
    "1. (10 pts.) Use df['year'] = df['Date'].dt.year to create a column for the year. Repeat this step to create columns for the month, day, and hour. Also, use df['day of week'] = df['Date'].dt.dayofweek to create a column for the day of the week. Fit a multiple regression model with all predictors (new created columns) and with month, day, hour, day of week as categorical variables. Report the MAPE and r-square."
   ]
  },
  {
   "cell_type": "code",
   "execution_count": null,
   "metadata": {},
   "outputs": [],
   "source": [
    "df['year'] = df['Date'].dt.year\n",
    "df['month'] = df['Date'].dt.month\n",
    "df['day'] = df['Date'].dt.day\n",
    "df['hour'] = df['Date'].dt.hour\n",
    "df['day_of_week'] = df['Date'].dt.dayofweek"
   ]
  },
  {
   "cell_type": "code",
   "execution_count": null,
   "metadata": {},
   "outputs": [],
   "source": [
    "df[:5]"
   ]
  },
  {
   "cell_type": "code",
   "execution_count": null,
   "metadata": {},
   "outputs": [],
   "source": [
    "df.dtypes"
   ]
  },
  {
   "cell_type": "code",
   "execution_count": null,
   "metadata": {},
   "outputs": [],
   "source": [
    "df[['month','day','hour','day_of_week']] = df[['month','day','hour','day_of_week']].astype(object)"
   ]
  },
  {
   "cell_type": "code",
   "execution_count": null,
   "metadata": {},
   "outputs": [],
   "source": [
    "df.dtypes"
   ]
  },
  {
   "cell_type": "code",
   "execution_count": null,
   "metadata": {},
   "outputs": [],
   "source": [
    "model1 = smf.ols(formula = 'Load ~ year + C(month) + C(day) + C(hour) + C(day_of_week)',\n",
    "                 data = df).fit()"
   ]
  },
  {
   "cell_type": "code",
   "execution_count": null,
   "metadata": {},
   "outputs": [],
   "source": [
    "y1 = df['Load']\n",
    "X1 = df[['year','month','day','hour','day_of_week']]"
   ]
  },
  {
   "cell_type": "code",
   "execution_count": null,
   "metadata": {},
   "outputs": [],
   "source": [
    "y_pred1 = model1.predict(X1)"
   ]
  },
  {
   "cell_type": "code",
   "execution_count": null,
   "metadata": {},
   "outputs": [],
   "source": [
    "# MAPE\n",
    "mean_absolute_percentage_error(y1, y_pred1)"
   ]
  },
  {
   "cell_type": "code",
   "execution_count": null,
   "metadata": {},
   "outputs": [],
   "source": [
    "# R-squared\n",
    "model1.rsquared"
   ]
  },
  {
   "cell_type": "markdown",
   "metadata": {},
   "source": [
    "2. Plot of Load as a function of time. This is a line plot (with the x-axis displaying the years). Column Date should be the dataframe index. Use df.Load.plot()."
   ]
  },
  {
   "cell_type": "code",
   "execution_count": null,
   "metadata": {},
   "outputs": [],
   "source": [
    "df = df.set_index(df['Date'])\n",
    "df = df.drop(columns = 'Date')\n",
    "df[:5]"
   ]
  },
  {
   "cell_type": "code",
   "execution_count": null,
   "metadata": {
    "scrolled": true
   },
   "outputs": [],
   "source": [
    "df.Load.plot(figsize = (18,6))\n",
    "plt.xlabel('Time')\n",
    "plt.ylabel('Load')\n",
    "plt.grid()"
   ]
  },
  {
   "cell_type": "markdown",
   "metadata": {},
   "source": [
    "3. (20 pts.) Construct a scatterplot of Load vs temp with the x-axis displaying the temp. Add a quadratic least squares (red) line on the plot. This plot should suggest that the square of temp is a good predictor of the Load and that it should be included in the following models."
   ]
  },
  {
   "cell_type": "code",
   "execution_count": null,
   "metadata": {},
   "outputs": [],
   "source": [
    "df3 = df.sort_values('temp')\n",
    "df3[:5]"
   ]
  },
  {
   "cell_type": "code",
   "execution_count": null,
   "metadata": {},
   "outputs": [],
   "source": [
    "Load = df['Load']\n",
    "temp = df['temp']\n",
    "temp1 = temp.values.reshape(-1, 1)"
   ]
  },
  {
   "cell_type": "code",
   "execution_count": null,
   "metadata": {},
   "outputs": [],
   "source": [
    "poly2 = PolynomialFeatures(degree = 2)\n",
    "temp2 = poly2.fit_transform(temp1)"
   ]
  },
  {
   "cell_type": "code",
   "execution_count": null,
   "metadata": {},
   "outputs": [],
   "source": [
    "model2 = LinearRegression().fit(temp2, Load)\n",
    "yhat2 = model2.predict(temp2)"
   ]
  },
  {
   "cell_type": "code",
   "execution_count": null,
   "metadata": {},
   "outputs": [],
   "source": [
    "plt.scatter(temp, Load, c = 'b', s =1)\n",
    "plt.plot(temp, yhat2, c = 'r', lw = 1)\n",
    "plt.xlabel('temp')\n",
    "plt.ylabel('Load')\n",
    "plt.grid()"
   ]
  },
  {
   "cell_type": "markdown",
   "metadata": {},
   "source": [
    "4. (10 pts.) Fit a multiple regression model by adding to the first model temp, and the temperature squared, the interaction of temperature and hour, and, the interaction of squared temperature and hour. Report the MAPE and r-square."
   ]
  },
  {
   "cell_type": "code",
   "execution_count": null,
   "metadata": {},
   "outputs": [],
   "source": [
    "df['temp_squared'] = df['temp']**2\n",
    "df[:5]"
   ]
  },
  {
   "cell_type": "code",
   "execution_count": null,
   "metadata": {},
   "outputs": [],
   "source": [
    "model4 = smf.ols(formula = 'Load ~ year + C(month) + C(day) + C(hour) + C(day_of_week) + \\\n",
    "                                   temp + temp_squared + temp * C(hour) + temp_squared * C(hour)',\n",
    "                 data = df).fit()"
   ]
  },
  {
   "cell_type": "code",
   "execution_count": null,
   "metadata": {},
   "outputs": [],
   "source": [
    "y4 = df['Load']\n",
    "X4 = df[['temp','year','month','day','hour','day_of_week','temp_squared']]"
   ]
  },
  {
   "cell_type": "code",
   "execution_count": null,
   "metadata": {},
   "outputs": [],
   "source": [
    "y_pred4 = model4.predict(X4)"
   ]
  },
  {
   "cell_type": "code",
   "execution_count": null,
   "metadata": {},
   "outputs": [],
   "source": [
    "# MAPE\n",
    "mean_absolute_percentage_error(y4, y_pred4)"
   ]
  },
  {
   "cell_type": "code",
   "execution_count": null,
   "metadata": {},
   "outputs": [],
   "source": [
    "# R-squared\n",
    "model4.rsquared"
   ]
  },
  {
   "cell_type": "markdown",
   "metadata": {},
   "source": [
    "5. (10 pts.) Use df['lag24'] = df['Load'].shift(24) to add the Load shifted 24 hours as an additional predictor. Fit the MLR model and report the MAPE and r-square. Remove the NaNs before building the model."
   ]
  },
  {
   "cell_type": "code",
   "execution_count": null,
   "metadata": {},
   "outputs": [],
   "source": [
    "df5 = df.copy()\n",
    "df5['lag24'] = df5['Load'].shift(24)\n",
    "df5[:5]"
   ]
  },
  {
   "cell_type": "code",
   "execution_count": null,
   "metadata": {
    "scrolled": true
   },
   "outputs": [],
   "source": [
    "df5 = df5.dropna(how = 'any')\n",
    "df5[:5]"
   ]
  },
  {
   "cell_type": "code",
   "execution_count": null,
   "metadata": {},
   "outputs": [],
   "source": [
    "model5 = smf.ols(formula = 'Load ~ year + C(month) + C(day) + C(hour) + C(day_of_week) + \\\n",
    "                                   temp + temp_squared + temp * C(hour) + temp_squared * C(hour) + \\\n",
    "                                   lag24',\n",
    "                 data = df5).fit()"
   ]
  },
  {
   "cell_type": "code",
   "execution_count": null,
   "metadata": {},
   "outputs": [],
   "source": [
    "y5 = df5['Load']\n",
    "X5 = df5[['temp','year','month','day','hour','day_of_week','temp_squared','lag24']]"
   ]
  },
  {
   "cell_type": "code",
   "execution_count": null,
   "metadata": {},
   "outputs": [],
   "source": [
    "y_pred5 = model5.predict(X5)"
   ]
  },
  {
   "cell_type": "code",
   "execution_count": null,
   "metadata": {},
   "outputs": [],
   "source": [
    "# MAPE\n",
    "mean_absolute_percentage_error(y5, y_pred5)"
   ]
  },
  {
   "cell_type": "code",
   "execution_count": null,
   "metadata": {},
   "outputs": [],
   "source": [
    "# R-squared\n",
    "model5.rsquared"
   ]
  },
  {
   "cell_type": "markdown",
   "metadata": {},
   "source": [
    "6. (10 pts.) Use sm.graphics.tsa.plot_pacf(load, lags = 60) to plot partial autocorrelations (adjust the argument lags = 60 as needed). Lags with a large partial autocorrelations (+ or -) should be good predictors. Fit a MLR model with the additional lags found and report the MAPE and r-square."
   ]
  },
  {
   "cell_type": "code",
   "execution_count": null,
   "metadata": {},
   "outputs": [],
   "source": [
    "pacf = sm.graphics.tsa.plot_pacf(Load, lags = 30)"
   ]
  },
  {
   "cell_type": "code",
   "execution_count": null,
   "metadata": {},
   "outputs": [],
   "source": [
    "# Because most of the forecasted load is bought 14 hours before the start of the “flow date”, \n",
    "# lags should be bigger than 14.\n",
    "# When lag = 24/25/26, the Partial Autocorrelations are large, and those should be good predictors."
   ]
  },
  {
   "cell_type": "code",
   "execution_count": null,
   "metadata": {},
   "outputs": [],
   "source": [
    "df6 = df.copy()\n",
    "df6[:5]"
   ]
  },
  {
   "cell_type": "code",
   "execution_count": null,
   "metadata": {},
   "outputs": [],
   "source": [
    "df6['lag24'] = df6['Load'].shift(24)\n",
    "df6['lag25'] = df6['Load'].shift(25)\n",
    "df6['lag26'] = df6['Load'].shift(26)\n",
    "df6['lagaweek'] = df6['Load'].shift(24*7)\n",
    "df6[:5]"
   ]
  },
  {
   "cell_type": "code",
   "execution_count": null,
   "metadata": {
    "scrolled": false
   },
   "outputs": [],
   "source": [
    "df6 = df6.dropna(how = 'any')\n",
    "df6[:5]"
   ]
  },
  {
   "cell_type": "code",
   "execution_count": null,
   "metadata": {},
   "outputs": [],
   "source": [
    "model6 = smf.ols(formula = 'Load ~ year + C(month) + C(day) + C(hour) + C(day_of_week) + \\\n",
    "                                   temp + temp_squared + temp * C(hour) + temp_squared * C(hour) + \\\n",
    "                                   lag24 + lag25 + lag26 + lagaweek',\n",
    "                 data = df6).fit()"
   ]
  },
  {
   "cell_type": "code",
   "execution_count": null,
   "metadata": {},
   "outputs": [],
   "source": [
    "y6 = df6['Load']\n",
    "X6 = df6[['temp','year','month','day','hour','day_of_week','temp_squared',\n",
    "          'lag24','lag25','lag26','lagaweek']]"
   ]
  },
  {
   "cell_type": "code",
   "execution_count": null,
   "metadata": {},
   "outputs": [],
   "source": [
    "y_pred6 = model6.predict(X6)"
   ]
  },
  {
   "cell_type": "code",
   "execution_count": null,
   "metadata": {
    "scrolled": true
   },
   "outputs": [],
   "source": [
    "# MAPE\n",
    "mean_absolute_percentage_error(y6, y_pred6)"
   ]
  },
  {
   "cell_type": "code",
   "execution_count": null,
   "metadata": {},
   "outputs": [],
   "source": [
    "# R-squared\n",
    "model6.rsquared"
   ]
  },
  {
   "cell_type": "markdown",
   "metadata": {},
   "source": [
    "7. (20 pts.) Split the data into a test set (2019 values) and a train set (all other years). Fit the best model found and report the MAPE and r-square for the test set."
   ]
  },
  {
   "cell_type": "code",
   "execution_count": null,
   "metadata": {},
   "outputs": [],
   "source": [
    "df7 = df.copy()"
   ]
  },
  {
   "cell_type": "code",
   "execution_count": null,
   "metadata": {},
   "outputs": [],
   "source": [
    "df7['lag24'] = df7['Load'].shift(24)\n",
    "df7['lag25'] = df7['Load'].shift(25)\n",
    "df7['lag26'] = df7['Load'].shift(26)\n",
    "df7['lagaweek'] = df7['Load'].shift(24*7)\n",
    "df7[:5]"
   ]
  },
  {
   "cell_type": "code",
   "execution_count": null,
   "metadata": {
    "scrolled": false
   },
   "outputs": [],
   "source": [
    "df7 = df7.dropna(how = 'any')\n",
    "df7[:5]"
   ]
  },
  {
   "cell_type": "code",
   "execution_count": null,
   "metadata": {},
   "outputs": [],
   "source": [
    "test = df7[df7['year'] == 2019]\n",
    "train = df7[df7['year'] != 2019]"
   ]
  },
  {
   "cell_type": "code",
   "execution_count": null,
   "metadata": {},
   "outputs": [],
   "source": [
    "model7 = smf.ols(formula = 'Load ~ year + C(month) + C(day) + C(hour) + C(day_of_week) + \\\n",
    "                                   temp + temp_squared + temp * C(hour) + temp_squared * C(hour) + \\\n",
    "                                   lag24 + lag25 + lag26 + lagaweek',\n",
    "                 data = train).fit()"
   ]
  },
  {
   "cell_type": "code",
   "execution_count": null,
   "metadata": {},
   "outputs": [],
   "source": [
    "y7 = test['Load']\n",
    "X7 = test[['temp','year','month','day','hour','day_of_week','temp_squared',\n",
    "          'lag24','lag25','lag26','lagaweek']]"
   ]
  },
  {
   "cell_type": "code",
   "execution_count": null,
   "metadata": {},
   "outputs": [],
   "source": [
    "y_pred7 = model7.predict(X7)"
   ]
  },
  {
   "cell_type": "code",
   "execution_count": null,
   "metadata": {},
   "outputs": [],
   "source": [
    "# MAPE\n",
    "mean_absolute_percentage_error(y7, y_pred7)"
   ]
  },
  {
   "cell_type": "code",
   "execution_count": null,
   "metadata": {},
   "outputs": [],
   "source": [
    "# R-squared\n",
    "model7.rsquared"
   ]
  },
  {
   "cell_type": "markdown",
   "metadata": {},
   "source": [
    "8. (10 pts.) Plot the cumulative load by year and month. This is called a seasonal chart (see below). It is useful to display the seasonality of the data. Adjust the x-axis with your choice."
   ]
  },
  {
   "cell_type": "code",
   "execution_count": null,
   "metadata": {},
   "outputs": [],
   "source": [
    "df8 = df[df['year'] != 2019]"
   ]
  },
  {
   "cell_type": "code",
   "execution_count": null,
   "metadata": {
    "scrolled": false
   },
   "outputs": [],
   "source": [
    "df8 = df8.pivot_table(values = 'Load', columns = 'year', index = 'month', aggfunc = sum)\n",
    "df8[:5]"
   ]
  },
  {
   "cell_type": "code",
   "execution_count": null,
   "metadata": {
    "scrolled": false
   },
   "outputs": [],
   "source": [
    "df8.plot(figsize = (16,6), grid = True)\n",
    "plt.ylabel('Monthly Load')\n",
    "plt.xlim(1,12)\n",
    "plt.legend()"
   ]
  },
  {
   "cell_type": "code",
   "execution_count": null,
   "metadata": {},
   "outputs": [],
   "source": [
    "# Use the Loop\n",
    "for i in df8.columns:\n",
    "    df8.loc[:,i].plot(figsize = (16,6))\n",
    "plt.grid()\n",
    "plt.ylabel('Monthly Load')\n",
    "plt.xlim(1,12)\n",
    "plt.legend()"
   ]
  }
 ],
 "metadata": {
  "kernelspec": {
   "display_name": "Python 3",
   "language": "python",
   "name": "python3"
  },
  "language_info": {
   "codemirror_mode": {
    "name": "ipython",
    "version": 3
   },
   "file_extension": ".py",
   "mimetype": "text/x-python",
   "name": "python",
   "nbconvert_exporter": "python",
   "pygments_lexer": "ipython3",
   "version": "3.8.8"
  }
 },
 "nbformat": 4,
 "nbformat_minor": 4
}
