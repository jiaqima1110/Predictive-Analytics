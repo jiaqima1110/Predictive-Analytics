{
 "cells": [
  {
   "cell_type": "markdown",
   "id": "9ea6d7e7",
   "metadata": {},
   "source": [
    "# Exam 2\n",
    "## Jiaqi Ma\n",
    "## USC ID: 3028009001"
   ]
  },
  {
   "cell_type": "code",
   "execution_count": 1,
   "id": "52d368c6",
   "metadata": {},
   "outputs": [],
   "source": [
    "import numpy as np\n",
    "import pandas as pd\n",
    "import matplotlib.pyplot as plt"
   ]
  },
  {
   "cell_type": "code",
   "execution_count": 2,
   "id": "767a8aed",
   "metadata": {},
   "outputs": [],
   "source": [
    "from sklearn.preprocessing import StandardScaler\n",
    "from sklearn.model_selection import train_test_split\n",
    "from sklearn.pipeline import make_pipeline\n",
    "from sklearn.metrics import confusion_matrix, accuracy_score\n",
    "from sklearn.model_selection import GridSearchCV"
   ]
  },
  {
   "cell_type": "code",
   "execution_count": 3,
   "id": "5969426d",
   "metadata": {},
   "outputs": [],
   "source": [
    "from sklearn.ensemble import RandomForestClassifier\n",
    "from sklearn.ensemble import GradientBoostingClassifier\n",
    "from sklearn.linear_model import LogisticRegression\n",
    "from sklearn.neural_network import MLPClassifier\n",
    "from sklearn.svm import SVC"
   ]
  },
  {
   "cell_type": "markdown",
   "id": "dac80eb3",
   "metadata": {},
   "source": [
    "1."
   ]
  },
  {
   "cell_type": "code",
   "execution_count": 4,
   "id": "f35c8cd7",
   "metadata": {},
   "outputs": [],
   "source": [
    "df = pd.read_csv('Caravan.csv')"
   ]
  },
  {
   "cell_type": "code",
   "execution_count": 5,
   "id": "bc81f53d",
   "metadata": {},
   "outputs": [
    {
     "data": {
      "text/plain": [
       "(5822, 86)"
      ]
     },
     "execution_count": 5,
     "metadata": {},
     "output_type": "execute_result"
    }
   ],
   "source": [
    "df.shape"
   ]
  },
  {
   "cell_type": "code",
   "execution_count": 6,
   "id": "c973eb96",
   "metadata": {},
   "outputs": [],
   "source": [
    "df = df.drop(['PVRAAUT', 'AVRAAUT'], axis = 1)"
   ]
  },
  {
   "cell_type": "code",
   "execution_count": 7,
   "id": "e8d93433",
   "metadata": {},
   "outputs": [],
   "source": [
    "train = df[1000:]\n",
    "test = df[:1000]"
   ]
  },
  {
   "cell_type": "code",
   "execution_count": 8,
   "id": "028bff27",
   "metadata": {},
   "outputs": [],
   "source": [
    "X_train = train.drop('Purchase', axis = 1)\n",
    "y_train = train['Purchase']"
   ]
  },
  {
   "cell_type": "code",
   "execution_count": 9,
   "id": "45ca193d",
   "metadata": {},
   "outputs": [],
   "source": [
    "X_test = test.drop('Purchase', axis = 1)\n",
    "y_test = test['Purchase']"
   ]
  },
  {
   "cell_type": "markdown",
   "id": "1eee72b9",
   "metadata": {},
   "source": [
    "a) A random forest model with 500 trees, max_features = 29, and random_state = 0."
   ]
  },
  {
   "cell_type": "code",
   "execution_count": 10,
   "id": "2fd2f699",
   "metadata": {},
   "outputs": [],
   "source": [
    "forest = RandomForestClassifier(n_estimators = 500, \n",
    "                                max_features = 29, \n",
    "                                random_state = 0)\n",
    "forest.fit(X_train, y_train)\n",
    "pred1 = forest.predict(X_test)"
   ]
  },
  {
   "cell_type": "code",
   "execution_count": 11,
   "id": "7ee2d4eb",
   "metadata": {},
   "outputs": [
    {
     "data": {
      "text/html": [
       "<div>\n",
       "<style scoped>\n",
       "    .dataframe tbody tr th:only-of-type {\n",
       "        vertical-align: middle;\n",
       "    }\n",
       "\n",
       "    .dataframe tbody tr th {\n",
       "        vertical-align: top;\n",
       "    }\n",
       "\n",
       "    .dataframe thead th {\n",
       "        text-align: right;\n",
       "    }\n",
       "</style>\n",
       "<table border=\"1\" class=\"dataframe\">\n",
       "  <thead>\n",
       "    <tr style=\"text-align: right;\">\n",
       "      <th>Purchase</th>\n",
       "      <th>No</th>\n",
       "      <th>Yes</th>\n",
       "    </tr>\n",
       "    <tr>\n",
       "      <th>Prediction</th>\n",
       "      <th></th>\n",
       "      <th></th>\n",
       "    </tr>\n",
       "  </thead>\n",
       "  <tbody>\n",
       "    <tr>\n",
       "      <th>No</th>\n",
       "      <td>915</td>\n",
       "      <td>52</td>\n",
       "    </tr>\n",
       "    <tr>\n",
       "      <th>Yes</th>\n",
       "      <td>26</td>\n",
       "      <td>7</td>\n",
       "    </tr>\n",
       "  </tbody>\n",
       "</table>\n",
       "</div>"
      ],
      "text/plain": [
       "Purchase     No  Yes\n",
       "Prediction          \n",
       "No          915   52\n",
       "Yes          26    7"
      ]
     },
     "execution_count": 11,
     "metadata": {},
     "output_type": "execute_result"
    }
   ],
   "source": [
    "cm1 = pd.crosstab(pred1, y_test)\n",
    "cm1.index.name = 'Prediction'\n",
    "cm1"
   ]
  },
  {
   "cell_type": "code",
   "execution_count": 12,
   "id": "9d2e9072",
   "metadata": {},
   "outputs": [
    {
     "name": "stdout",
     "output_type": "stream",
     "text": [
      "Precision: 21.21 %\n"
     ]
    }
   ],
   "source": [
    "# test set precision\n",
    "print('Precision:',\n",
    "      round((cm1.iloc[1][1]/\n",
    "            (cm1.iloc[1][0] + cm1.iloc[1][1]))*100, 2),\n",
    "      '%')"
   ]
  },
  {
   "cell_type": "markdown",
   "id": "4ef83a8b",
   "metadata": {},
   "source": [
    "b) A boosting model with max_depth = 4. Use 1000 trees, learning rate 0.01, and random_state = 0."
   ]
  },
  {
   "cell_type": "code",
   "execution_count": 13,
   "id": "351aa4b2",
   "metadata": {},
   "outputs": [],
   "source": [
    "boosting = GradientBoostingClassifier(n_estimators = 1000,\n",
    "                                      learning_rate = 0.01,\n",
    "                                      max_depth = 4,\n",
    "                                      random_state = 0)\n",
    "boosting.fit(X_train, y_train)\n",
    "pred2 = boosting.predict(X_test)"
   ]
  },
  {
   "cell_type": "code",
   "execution_count": 14,
   "id": "a21a8fb5",
   "metadata": {},
   "outputs": [
    {
     "data": {
      "text/html": [
       "<div>\n",
       "<style scoped>\n",
       "    .dataframe tbody tr th:only-of-type {\n",
       "        vertical-align: middle;\n",
       "    }\n",
       "\n",
       "    .dataframe tbody tr th {\n",
       "        vertical-align: top;\n",
       "    }\n",
       "\n",
       "    .dataframe thead th {\n",
       "        text-align: right;\n",
       "    }\n",
       "</style>\n",
       "<table border=\"1\" class=\"dataframe\">\n",
       "  <thead>\n",
       "    <tr style=\"text-align: right;\">\n",
       "      <th>Purchase</th>\n",
       "      <th>No</th>\n",
       "      <th>Yes</th>\n",
       "    </tr>\n",
       "    <tr>\n",
       "      <th>Prediction</th>\n",
       "      <th></th>\n",
       "      <th></th>\n",
       "    </tr>\n",
       "  </thead>\n",
       "  <tbody>\n",
       "    <tr>\n",
       "      <th>No</th>\n",
       "      <td>937</td>\n",
       "      <td>57</td>\n",
       "    </tr>\n",
       "    <tr>\n",
       "      <th>Yes</th>\n",
       "      <td>4</td>\n",
       "      <td>2</td>\n",
       "    </tr>\n",
       "  </tbody>\n",
       "</table>\n",
       "</div>"
      ],
      "text/plain": [
       "Purchase     No  Yes\n",
       "Prediction          \n",
       "No          937   57\n",
       "Yes           4    2"
      ]
     },
     "execution_count": 14,
     "metadata": {},
     "output_type": "execute_result"
    }
   ],
   "source": [
    "cm2 = pd.crosstab(pred2, y_test)\n",
    "cm2.index.name = 'Prediction'\n",
    "cm2"
   ]
  },
  {
   "cell_type": "code",
   "execution_count": 15,
   "id": "03d28919",
   "metadata": {},
   "outputs": [
    {
     "name": "stdout",
     "output_type": "stream",
     "text": [
      "Precision: 33.33 %\n"
     ]
    }
   ],
   "source": [
    "# test set precision\n",
    "print('Precision:',\n",
    "      round((cm2.iloc[1][1]/\n",
    "            (cm2.iloc[1][0] + cm2.iloc[1][1]))*100, 2),\n",
    "      '%')"
   ]
  },
  {
   "cell_type": "markdown",
   "id": "e2accc18",
   "metadata": {},
   "source": [
    "c) A multilayer perceptron with three hidden layers having 400 nodes "
   ]
  },
  {
   "cell_type": "code",
   "execution_count": 16,
   "id": "58b4a034",
   "metadata": {},
   "outputs": [],
   "source": [
    "# scale the data\n",
    "scaler = StandardScaler()\n",
    "scaler.fit(X_train)\n",
    "X_train_scaled = scaler.transform(X_train)\n",
    "X_test_scaled = scaler.transform(X_test)"
   ]
  },
  {
   "cell_type": "code",
   "execution_count": 17,
   "id": "503a2178",
   "metadata": {},
   "outputs": [],
   "source": [
    "mlp = MLPClassifier(solver = 'lbfgs', \n",
    "                    random_state = 0,\n",
    "                    activation = 'tanh', \n",
    "                    hidden_layer_sizes = [400, 400, 400],\n",
    "                    max_iter = 2000)\n",
    "mlp.fit(X_train_scaled, y_train)\n",
    "pred3 = mlp.predict(X_test_scaled)"
   ]
  },
  {
   "cell_type": "code",
   "execution_count": 18,
   "id": "17fd9ed4",
   "metadata": {},
   "outputs": [
    {
     "data": {
      "text/html": [
       "<div>\n",
       "<style scoped>\n",
       "    .dataframe tbody tr th:only-of-type {\n",
       "        vertical-align: middle;\n",
       "    }\n",
       "\n",
       "    .dataframe tbody tr th {\n",
       "        vertical-align: top;\n",
       "    }\n",
       "\n",
       "    .dataframe thead th {\n",
       "        text-align: right;\n",
       "    }\n",
       "</style>\n",
       "<table border=\"1\" class=\"dataframe\">\n",
       "  <thead>\n",
       "    <tr style=\"text-align: right;\">\n",
       "      <th>Purchase</th>\n",
       "      <th>No</th>\n",
       "      <th>Yes</th>\n",
       "    </tr>\n",
       "    <tr>\n",
       "      <th>Prediction</th>\n",
       "      <th></th>\n",
       "      <th></th>\n",
       "    </tr>\n",
       "  </thead>\n",
       "  <tbody>\n",
       "    <tr>\n",
       "      <th>No</th>\n",
       "      <td>885</td>\n",
       "      <td>48</td>\n",
       "    </tr>\n",
       "    <tr>\n",
       "      <th>Yes</th>\n",
       "      <td>56</td>\n",
       "      <td>11</td>\n",
       "    </tr>\n",
       "  </tbody>\n",
       "</table>\n",
       "</div>"
      ],
      "text/plain": [
       "Purchase     No  Yes\n",
       "Prediction          \n",
       "No          885   48\n",
       "Yes          56   11"
      ]
     },
     "execution_count": 18,
     "metadata": {},
     "output_type": "execute_result"
    }
   ],
   "source": [
    "cm3 = pd.crosstab(pred3, y_test)\n",
    "cm3.index.name = 'Prediction'\n",
    "cm3"
   ]
  },
  {
   "cell_type": "code",
   "execution_count": 19,
   "id": "2ba20132",
   "metadata": {},
   "outputs": [
    {
     "name": "stdout",
     "output_type": "stream",
     "text": [
      "Precision: 16.42 %\n"
     ]
    }
   ],
   "source": [
    "# test set precision\n",
    "print('Precision:',\n",
    "      round((cm3.iloc[1][1]/\n",
    "            (cm3.iloc[1][0] + cm3.iloc[1][1]))*100, 2),\n",
    "      '%')"
   ]
  },
  {
   "cell_type": "markdown",
   "id": "56e8b7aa",
   "metadata": {},
   "source": [
    "d) Logistic regression with the default value for C."
   ]
  },
  {
   "cell_type": "code",
   "execution_count": 20,
   "id": "3af6400a",
   "metadata": {},
   "outputs": [],
   "source": [
    "lg = LogisticRegression(solver = 'lbfgs', max_iter = 900)\n",
    "lg.fit(X_train_scaled, y_train)\n",
    "pred4 = lg.predict(X_test_scaled)"
   ]
  },
  {
   "cell_type": "code",
   "execution_count": 21,
   "id": "a6e47613",
   "metadata": {},
   "outputs": [
    {
     "data": {
      "text/html": [
       "<div>\n",
       "<style scoped>\n",
       "    .dataframe tbody tr th:only-of-type {\n",
       "        vertical-align: middle;\n",
       "    }\n",
       "\n",
       "    .dataframe tbody tr th {\n",
       "        vertical-align: top;\n",
       "    }\n",
       "\n",
       "    .dataframe thead th {\n",
       "        text-align: right;\n",
       "    }\n",
       "</style>\n",
       "<table border=\"1\" class=\"dataframe\">\n",
       "  <thead>\n",
       "    <tr style=\"text-align: right;\">\n",
       "      <th>Purchase</th>\n",
       "      <th>No</th>\n",
       "      <th>Yes</th>\n",
       "    </tr>\n",
       "    <tr>\n",
       "      <th>Prediction</th>\n",
       "      <th></th>\n",
       "      <th></th>\n",
       "    </tr>\n",
       "  </thead>\n",
       "  <tbody>\n",
       "    <tr>\n",
       "      <th>No</th>\n",
       "      <td>934</td>\n",
       "      <td>59</td>\n",
       "    </tr>\n",
       "    <tr>\n",
       "      <th>Yes</th>\n",
       "      <td>7</td>\n",
       "      <td>0</td>\n",
       "    </tr>\n",
       "  </tbody>\n",
       "</table>\n",
       "</div>"
      ],
      "text/plain": [
       "Purchase     No  Yes\n",
       "Prediction          \n",
       "No          934   59\n",
       "Yes           7    0"
      ]
     },
     "execution_count": 21,
     "metadata": {},
     "output_type": "execute_result"
    }
   ],
   "source": [
    "cm4 = pd.crosstab(pred4, y_test)\n",
    "cm4.index.name = 'Prediction'\n",
    "cm4"
   ]
  },
  {
   "cell_type": "code",
   "execution_count": 22,
   "id": "0dcdf604",
   "metadata": {},
   "outputs": [
    {
     "name": "stdout",
     "output_type": "stream",
     "text": [
      "Precision: 0.0 %\n"
     ]
    }
   ],
   "source": [
    "# test set precision\n",
    "print('Precision:',\n",
    "      round((cm4.iloc[1][1]/\n",
    "            (cm4.iloc[1][0] + cm4.iloc[1][1]))*100, 2),\n",
    "      '%')"
   ]
  },
  {
   "cell_type": "markdown",
   "id": "d7ab5b3e",
   "metadata": {},
   "source": [
    "e) Repeat part (d) with a cut-off probability value equal to 0.25. LogisticRegression uses 0.50 as cut-off default value. It uses the cut-off value to predict the category. If the probability is larger than 0.5 the model predicts category Yes, otherwise it predicts No. Function model.predict_proba( ) may help to this end."
   ]
  },
  {
   "cell_type": "code",
   "execution_count": 23,
   "id": "8d25edc8",
   "metadata": {},
   "outputs": [],
   "source": [
    "lg = LogisticRegression(solver = 'lbfgs', max_iter = 900)\n",
    "lg.fit(X_train_scaled, y_train)\n",
    "prob5 = lg.predict_proba(X_test_scaled)"
   ]
  },
  {
   "cell_type": "code",
   "execution_count": 24,
   "id": "1afea7c8",
   "metadata": {},
   "outputs": [],
   "source": [
    "pred5 = (prob5[:,1] > 0.25).astype('int')"
   ]
  },
  {
   "cell_type": "code",
   "execution_count": 25,
   "id": "1ce19f41",
   "metadata": {},
   "outputs": [
    {
     "data": {
      "text/html": [
       "<div>\n",
       "<style scoped>\n",
       "    .dataframe tbody tr th:only-of-type {\n",
       "        vertical-align: middle;\n",
       "    }\n",
       "\n",
       "    .dataframe tbody tr th {\n",
       "        vertical-align: top;\n",
       "    }\n",
       "\n",
       "    .dataframe thead th {\n",
       "        text-align: right;\n",
       "    }\n",
       "</style>\n",
       "<table border=\"1\" class=\"dataframe\">\n",
       "  <thead>\n",
       "    <tr style=\"text-align: right;\">\n",
       "      <th>Purchase</th>\n",
       "      <th>No</th>\n",
       "      <th>Yes</th>\n",
       "    </tr>\n",
       "    <tr>\n",
       "      <th>Prediction</th>\n",
       "      <th></th>\n",
       "      <th></th>\n",
       "    </tr>\n",
       "  </thead>\n",
       "  <tbody>\n",
       "    <tr>\n",
       "      <th>No</th>\n",
       "      <td>917</td>\n",
       "      <td>48</td>\n",
       "    </tr>\n",
       "    <tr>\n",
       "      <th>Yes</th>\n",
       "      <td>24</td>\n",
       "      <td>11</td>\n",
       "    </tr>\n",
       "  </tbody>\n",
       "</table>\n",
       "</div>"
      ],
      "text/plain": [
       "Purchase     No  Yes\n",
       "Prediction          \n",
       "No          917   48\n",
       "Yes          24   11"
      ]
     },
     "execution_count": 25,
     "metadata": {},
     "output_type": "execute_result"
    }
   ],
   "source": [
    "cm5 = pd.crosstab(pred5, y_test)\n",
    "cm5.index = ['No', 'Yes']\n",
    "cm5.index.name = 'Prediction'\n",
    "cm5"
   ]
  },
  {
   "cell_type": "code",
   "execution_count": 26,
   "id": "b063f862",
   "metadata": {},
   "outputs": [
    {
     "name": "stdout",
     "output_type": "stream",
     "text": [
      "Precision: 31.43 %\n"
     ]
    }
   ],
   "source": [
    "# test set precision\n",
    "print('Precision:',\n",
    "      round((cm5.iloc[1][1]/\n",
    "            (cm5.iloc[1][0] + cm5.iloc[1][1]))*100, 2),\n",
    "      '%')"
   ]
  },
  {
   "cell_type": "markdown",
   "id": "68bfeee4",
   "metadata": {},
   "source": [
    "2."
   ]
  },
  {
   "cell_type": "code",
   "execution_count": 27,
   "id": "76307664",
   "metadata": {},
   "outputs": [],
   "source": [
    "from sklearn.datasets import fetch_lfw_people\n",
    "faces = fetch_lfw_people(min_faces_per_person = 60)"
   ]
  },
  {
   "cell_type": "code",
   "execution_count": 28,
   "id": "4b1adf07",
   "metadata": {},
   "outputs": [
    {
     "name": "stdout",
     "output_type": "stream",
     "text": [
      "(1348, 62, 47) (1348, 2914) (1348,) (8,)\n"
     ]
    }
   ],
   "source": [
    "print(faces.images.shape, \n",
    "      faces.data.shape, \n",
    "      faces.target.shape, \n",
    "      faces.target_names.shape)"
   ]
  },
  {
   "cell_type": "code",
   "execution_count": 29,
   "id": "939396f3",
   "metadata": {},
   "outputs": [],
   "source": [
    "X = faces.data\n",
    "y = faces.target"
   ]
  },
  {
   "cell_type": "code",
   "execution_count": 30,
   "id": "44d2107b",
   "metadata": {},
   "outputs": [],
   "source": [
    "X_train, X_test, y_train, y_test = train_test_split(X, y,\n",
    "                                                    stratify = y,\n",
    "                                                    random_state = 42,\n",
    "                                                    test_size = 0.25)"
   ]
  },
  {
   "cell_type": "markdown",
   "id": "60ab7dd4",
   "metadata": {},
   "source": [
    "a) Fit an SVC model as shown. Find the test accuracy rate."
   ]
  },
  {
   "cell_type": "code",
   "execution_count": 31,
   "id": "f63a508e",
   "metadata": {},
   "outputs": [],
   "source": [
    "svc = SVC(kernel = 'rbf', gamma = 0.01)\n",
    "model = make_pipeline(svc)\n",
    "model.fit(X_train, y_train)\n",
    "\n",
    "preda = model.predict(X_test)"
   ]
  },
  {
   "cell_type": "code",
   "execution_count": 32,
   "id": "4509b2ff",
   "metadata": {},
   "outputs": [
    {
     "name": "stdout",
     "output_type": "stream",
     "text": [
      "Accuracy Rate: 39.47 %\n"
     ]
    }
   ],
   "source": [
    "# test accuracy rate\n",
    "print('Accuracy Rate:',\n",
    "      round(accuracy_score(y_test, preda)*100, 2),\n",
    "      '%')"
   ]
  },
  {
   "cell_type": "markdown",
   "id": "65da8b65",
   "metadata": {},
   "source": [
    "b) To improve the model accuracy we will transform the features using Principal Components, a topic we review in ISE 535. Use first 150 principal components as the new features of the model, as shown below, then report the test accuracy rate."
   ]
  },
  {
   "cell_type": "code",
   "execution_count": 33,
   "id": "4e7d056d",
   "metadata": {},
   "outputs": [],
   "source": [
    "from sklearn.decomposition import PCA\n",
    "\n",
    "pca = PCA(n_components = 150, \n",
    "          svd_solver = 'randomized', \n",
    "          whiten = True, \n",
    "          random_state = 42)\n",
    "svc = SVC(kernel = 'rbf', gamma = 0.01)\n",
    "model = make_pipeline(pca, svc)\n",
    "model.fit(X_train, y_train)\n",
    "\n",
    "predb = model.predict(X_test)"
   ]
  },
  {
   "cell_type": "code",
   "execution_count": 34,
   "id": "b52d97bb",
   "metadata": {},
   "outputs": [
    {
     "name": "stdout",
     "output_type": "stream",
     "text": [
      "Accuracy Rate: 69.73 %\n"
     ]
    }
   ],
   "source": [
    "# test accuracy rate\n",
    "print('Accuracy Rate:',\n",
    "      round(accuracy_score(y_test, predb)*100, 2),\n",
    "      '%')"
   ]
  },
  {
   "cell_type": "markdown",
   "id": "09d7bafe",
   "metadata": {},
   "source": [
    "c) Add argument class_weight='balanced' to the SVC( ) line above, run the code again and find the accuracy rate. Here we modify the loss function by weighting the loss of each row category by its class weight."
   ]
  },
  {
   "cell_type": "code",
   "execution_count": 35,
   "id": "9128aacf",
   "metadata": {},
   "outputs": [
    {
     "name": "stdout",
     "output_type": "stream",
     "text": [
      "Accuracy Rate: 74.48 %\n"
     ]
    }
   ],
   "source": [
    "pca = PCA(n_components = 150, \n",
    "          svd_solver = 'randomized', \n",
    "          whiten = True, \n",
    "          random_state = 42)\n",
    "svc = SVC(kernel = 'rbf', \n",
    "          gamma = 0.01, \n",
    "          class_weight = 'balanced')\n",
    "model = make_pipeline(pca, svc)\n",
    "model.fit(X_train, y_train)\n",
    "\n",
    "predc = model.predict(X_test)\n",
    "\n",
    "# test accuracy rate\n",
    "print('Accuracy Rate:',\n",
    "      round(accuracy_score(y_test, predc)*100, 2),\n",
    "      '%')"
   ]
  },
  {
   "cell_type": "markdown",
   "id": "274c2b6d",
   "metadata": {},
   "source": [
    "d) Use GridSearchCV to search best values for C and gamma. Try the grid values shown below. Report the test accuracy rate."
   ]
  },
  {
   "cell_type": "code",
   "execution_count": 36,
   "id": "95a548a2",
   "metadata": {},
   "outputs": [
    {
     "name": "stdout",
     "output_type": "stream",
     "text": [
      "Accuracy Rate: 84.87 %\n"
     ]
    }
   ],
   "source": [
    "pca = PCA(n_components=150, \n",
    "          svd_solver = 'randomized', \n",
    "          whiten = True, \n",
    "          random_state = 42)\n",
    "svc = SVC(kernel = 'rbf', class_weight = 'balanced')\n",
    "model = make_pipeline(pca, svc)\n",
    "param_grid = {'svc__C': [1, 5, 10],\n",
    "              'svc__gamma': [0.0001, 0.0005, 0.001, 0.005]}\n",
    "grid = GridSearchCV(model, param_grid, cv = 5)\n",
    "grid.fit(X_train, y_train)\n",
    "model = grid.best_estimator_\n",
    "\n",
    "predd = model.predict(X_test)\n",
    "\n",
    "# test accuracy rate\n",
    "print('Accuracy Rate:',\n",
    "      round(accuracy_score(y_test, predd)*100, 2),\n",
    "      '%')"
   ]
  },
  {
   "cell_type": "code",
   "execution_count": 37,
   "id": "9a97660b",
   "metadata": {},
   "outputs": [
    {
     "data": {
      "text/plain": [
       "{'svc__C': 5, 'svc__gamma': 0.005}"
      ]
     },
     "execution_count": 37,
     "metadata": {},
     "output_type": "execute_result"
    }
   ],
   "source": [
    "# best values for C and gamma\n",
    "grid.best_params_"
   ]
  },
  {
   "cell_type": "markdown",
   "id": "9a34f3f6",
   "metadata": {},
   "source": [
    "e) Report the confusion matrix (for test set) of the best model in a dataframe with rows\n",
    "identifying the true name of the person and columns identifying the predicted name. What person\n",
    "has the largest error rate (that is, the person that is most difficult to predict)?"
   ]
  },
  {
   "cell_type": "code",
   "execution_count": 38,
   "id": "333e48ae",
   "metadata": {},
   "outputs": [
    {
     "data": {
      "text/html": [
       "<div>\n",
       "<style scoped>\n",
       "    .dataframe tbody tr th:only-of-type {\n",
       "        vertical-align: middle;\n",
       "    }\n",
       "\n",
       "    .dataframe tbody tr th {\n",
       "        vertical-align: top;\n",
       "    }\n",
       "\n",
       "    .dataframe thead th {\n",
       "        text-align: right;\n",
       "    }\n",
       "</style>\n",
       "<table border=\"1\" class=\"dataframe\">\n",
       "  <thead>\n",
       "    <tr style=\"text-align: right;\">\n",
       "      <th>Predicted Name</th>\n",
       "      <th>Ariel Sharon</th>\n",
       "      <th>Colin Powell</th>\n",
       "      <th>Donald Rumsfeld</th>\n",
       "      <th>George W Bush</th>\n",
       "      <th>Gerhard Schroeder</th>\n",
       "      <th>Hugo Chavez</th>\n",
       "      <th>Junichiro Koizumi</th>\n",
       "      <th>Tony Blair</th>\n",
       "    </tr>\n",
       "    <tr>\n",
       "      <th>True Name</th>\n",
       "      <th></th>\n",
       "      <th></th>\n",
       "      <th></th>\n",
       "      <th></th>\n",
       "      <th></th>\n",
       "      <th></th>\n",
       "      <th></th>\n",
       "      <th></th>\n",
       "    </tr>\n",
       "  </thead>\n",
       "  <tbody>\n",
       "    <tr>\n",
       "      <th>Ariel Sharon</th>\n",
       "      <td>10</td>\n",
       "      <td>4</td>\n",
       "      <td>0</td>\n",
       "      <td>5</td>\n",
       "      <td>0</td>\n",
       "      <td>0</td>\n",
       "      <td>0</td>\n",
       "      <td>0</td>\n",
       "    </tr>\n",
       "    <tr>\n",
       "      <th>Colin Powell</th>\n",
       "      <td>1</td>\n",
       "      <td>53</td>\n",
       "      <td>0</td>\n",
       "      <td>4</td>\n",
       "      <td>0</td>\n",
       "      <td>0</td>\n",
       "      <td>0</td>\n",
       "      <td>1</td>\n",
       "    </tr>\n",
       "    <tr>\n",
       "      <th>Donald Rumsfeld</th>\n",
       "      <td>0</td>\n",
       "      <td>2</td>\n",
       "      <td>23</td>\n",
       "      <td>4</td>\n",
       "      <td>0</td>\n",
       "      <td>1</td>\n",
       "      <td>0</td>\n",
       "      <td>0</td>\n",
       "    </tr>\n",
       "    <tr>\n",
       "      <th>George W Bush</th>\n",
       "      <td>0</td>\n",
       "      <td>5</td>\n",
       "      <td>0</td>\n",
       "      <td>128</td>\n",
       "      <td>0</td>\n",
       "      <td>0</td>\n",
       "      <td>0</td>\n",
       "      <td>0</td>\n",
       "    </tr>\n",
       "    <tr>\n",
       "      <th>Gerhard Schroeder</th>\n",
       "      <td>0</td>\n",
       "      <td>0</td>\n",
       "      <td>0</td>\n",
       "      <td>2</td>\n",
       "      <td>24</td>\n",
       "      <td>0</td>\n",
       "      <td>0</td>\n",
       "      <td>1</td>\n",
       "    </tr>\n",
       "    <tr>\n",
       "      <th>Hugo Chavez</th>\n",
       "      <td>0</td>\n",
       "      <td>3</td>\n",
       "      <td>0</td>\n",
       "      <td>3</td>\n",
       "      <td>1</td>\n",
       "      <td>10</td>\n",
       "      <td>0</td>\n",
       "      <td>1</td>\n",
       "    </tr>\n",
       "    <tr>\n",
       "      <th>Junichiro Koizumi</th>\n",
       "      <td>0</td>\n",
       "      <td>0</td>\n",
       "      <td>1</td>\n",
       "      <td>2</td>\n",
       "      <td>0</td>\n",
       "      <td>0</td>\n",
       "      <td>10</td>\n",
       "      <td>2</td>\n",
       "    </tr>\n",
       "    <tr>\n",
       "      <th>Tony Blair</th>\n",
       "      <td>0</td>\n",
       "      <td>0</td>\n",
       "      <td>1</td>\n",
       "      <td>6</td>\n",
       "      <td>1</td>\n",
       "      <td>0</td>\n",
       "      <td>0</td>\n",
       "      <td>28</td>\n",
       "    </tr>\n",
       "  </tbody>\n",
       "</table>\n",
       "</div>"
      ],
      "text/plain": [
       "Predicted Name     Ariel Sharon  Colin Powell  Donald Rumsfeld  George W Bush  \\\n",
       "True Name                                                                       \n",
       "Ariel Sharon                 10             4                0              5   \n",
       "Colin Powell                  1            53                0              4   \n",
       "Donald Rumsfeld               0             2               23              4   \n",
       "George W Bush                 0             5                0            128   \n",
       "Gerhard Schroeder             0             0                0              2   \n",
       "Hugo Chavez                   0             3                0              3   \n",
       "Junichiro Koizumi             0             0                1              2   \n",
       "Tony Blair                    0             0                1              6   \n",
       "\n",
       "Predicted Name     Gerhard Schroeder  Hugo Chavez  Junichiro Koizumi  \\\n",
       "True Name                                                              \n",
       "Ariel Sharon                       0            0                  0   \n",
       "Colin Powell                       0            0                  0   \n",
       "Donald Rumsfeld                    0            1                  0   \n",
       "George W Bush                      0            0                  0   \n",
       "Gerhard Schroeder                 24            0                  0   \n",
       "Hugo Chavez                        1           10                  0   \n",
       "Junichiro Koizumi                  0            0                 10   \n",
       "Tony Blair                         1            0                  0   \n",
       "\n",
       "Predicted Name     Tony Blair  \n",
       "True Name                      \n",
       "Ariel Sharon                0  \n",
       "Colin Powell                1  \n",
       "Donald Rumsfeld             0  \n",
       "George W Bush               0  \n",
       "Gerhard Schroeder           1  \n",
       "Hugo Chavez                 1  \n",
       "Junichiro Koizumi           2  \n",
       "Tony Blair                 28  "
      ]
     },
     "execution_count": 38,
     "metadata": {},
     "output_type": "execute_result"
    }
   ],
   "source": [
    "# confusion matrix\n",
    "cm = confusion_matrix(y_test, predd)\n",
    "cm = pd.DataFrame(cm, index = faces.target_names, \n",
    "                  columns = faces.target_names)\n",
    "cm.index.name = 'True Name'\n",
    "cm.columns.name = 'Predicted Name'\n",
    "cm"
   ]
  },
  {
   "cell_type": "code",
   "execution_count": 39,
   "id": "7774a6e3",
   "metadata": {},
   "outputs": [
    {
     "data": {
      "text/html": [
       "<div>\n",
       "<style scoped>\n",
       "    .dataframe tbody tr th:only-of-type {\n",
       "        vertical-align: middle;\n",
       "    }\n",
       "\n",
       "    .dataframe tbody tr th {\n",
       "        vertical-align: top;\n",
       "    }\n",
       "\n",
       "    .dataframe thead th {\n",
       "        text-align: right;\n",
       "    }\n",
       "</style>\n",
       "<table border=\"1\" class=\"dataframe\">\n",
       "  <thead>\n",
       "    <tr style=\"text-align: right;\">\n",
       "      <th></th>\n",
       "      <th>Error_Rate</th>\n",
       "    </tr>\n",
       "  </thead>\n",
       "  <tbody>\n",
       "    <tr>\n",
       "      <th>0</th>\n",
       "      <td>0.473684</td>\n",
       "    </tr>\n",
       "    <tr>\n",
       "      <th>1</th>\n",
       "      <td>0.101695</td>\n",
       "    </tr>\n",
       "    <tr>\n",
       "      <th>2</th>\n",
       "      <td>0.233333</td>\n",
       "    </tr>\n",
       "    <tr>\n",
       "      <th>3</th>\n",
       "      <td>0.037594</td>\n",
       "    </tr>\n",
       "    <tr>\n",
       "      <th>4</th>\n",
       "      <td>0.111111</td>\n",
       "    </tr>\n",
       "    <tr>\n",
       "      <th>5</th>\n",
       "      <td>0.444444</td>\n",
       "    </tr>\n",
       "    <tr>\n",
       "      <th>6</th>\n",
       "      <td>0.333333</td>\n",
       "    </tr>\n",
       "    <tr>\n",
       "      <th>7</th>\n",
       "      <td>0.222222</td>\n",
       "    </tr>\n",
       "  </tbody>\n",
       "</table>\n",
       "</div>"
      ],
      "text/plain": [
       "   Error_Rate\n",
       "0    0.473684\n",
       "1    0.101695\n",
       "2    0.233333\n",
       "3    0.037594\n",
       "4    0.111111\n",
       "5    0.444444\n",
       "6    0.333333\n",
       "7    0.222222"
      ]
     },
     "execution_count": 39,
     "metadata": {},
     "output_type": "execute_result"
    }
   ],
   "source": [
    "error_rate = []\n",
    "for i in range(len(cm)):\n",
    "    error_rate.append(1-cm.iloc[i][i]/sum(cm.iloc[i]))\n",
    "\n",
    "error_rate = pd.DataFrame(error_rate, columns = ['Error_Rate'])\n",
    "error_rate"
   ]
  },
  {
   "cell_type": "code",
   "execution_count": 40,
   "id": "7d5cdf03",
   "metadata": {},
   "outputs": [
    {
     "data": {
      "text/plain": [
       "array(['Ariel Sharon'], dtype='<U17')"
      ]
     },
     "execution_count": 40,
     "metadata": {},
     "output_type": "execute_result"
    }
   ],
   "source": [
    "# the person that is most difficult to predict is Ariel Sharon\n",
    "faces.target_names[error_rate.idxmax(axis = 0)]"
   ]
  },
  {
   "cell_type": "code",
   "execution_count": 41,
   "id": "2a4d7b83",
   "metadata": {},
   "outputs": [
    {
     "name": "stdout",
     "output_type": "stream",
     "text": [
      "The largest error rate is: 47.37 %\n",
      "The accuracy Rate is: 84.87 %\n"
     ]
    }
   ],
   "source": [
    "print('The largest error rate is:',\n",
    "      round(error_rate['Error_Rate'].max()*100, 2),\n",
    "      '%')\n",
    "\n",
    "print('The accuracy Rate is:',\n",
    "      round(accuracy_score(y_test, predd)*100, 2),\n",
    "      '%')"
   ]
  }
 ],
 "metadata": {
  "kernelspec": {
   "display_name": "Python 3",
   "language": "python",
   "name": "python3"
  },
  "language_info": {
   "codemirror_mode": {
    "name": "ipython",
    "version": 3
   },
   "file_extension": ".py",
   "mimetype": "text/x-python",
   "name": "python",
   "nbconvert_exporter": "python",
   "pygments_lexer": "ipython3",
   "version": "3.8.8"
  }
 },
 "nbformat": 4,
 "nbformat_minor": 5
}
