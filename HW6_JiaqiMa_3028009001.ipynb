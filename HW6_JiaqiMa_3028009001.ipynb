{
 "cells": [
  {
   "cell_type": "markdown",
   "id": "cee822f2",
   "metadata": {},
   "source": [
    "# Homework6\n",
    "## Jiaqi Ma\n",
    "## USC ID: 3028009001"
   ]
  },
  {
   "cell_type": "code",
   "execution_count": 1,
   "id": "ed98f5d0",
   "metadata": {},
   "outputs": [],
   "source": [
    "import pandas as pd\n",
    "import numpy as np\n",
    "import matplotlib.pyplot as plt"
   ]
  },
  {
   "cell_type": "code",
   "execution_count": 2,
   "id": "1ece5d36",
   "metadata": {},
   "outputs": [],
   "source": [
    "from sklearn.ensemble import RandomForestClassifier\n",
    "from sklearn.ensemble import GradientBoostingClassifier\n",
    "from sklearn.linear_model import LogisticRegression\n",
    "from sklearn.neighbors import KNeighborsClassifier"
   ]
  },
  {
   "cell_type": "code",
   "execution_count": 3,
   "id": "aebbbbfb",
   "metadata": {},
   "outputs": [],
   "source": [
    "from sklearn.model_selection import StratifiedKFold\n",
    "from sklearn.model_selection import cross_val_score\n",
    "from sklearn.pipeline import Pipeline"
   ]
  },
  {
   "cell_type": "code",
   "execution_count": 4,
   "id": "a82c7bca",
   "metadata": {},
   "outputs": [],
   "source": [
    "df = pd.read_csv('Caravan.csv')"
   ]
  },
  {
   "cell_type": "code",
   "execution_count": 5,
   "id": "54007b7e",
   "metadata": {},
   "outputs": [
    {
     "data": {
      "text/html": [
       "<div>\n",
       "<style scoped>\n",
       "    .dataframe tbody tr th:only-of-type {\n",
       "        vertical-align: middle;\n",
       "    }\n",
       "\n",
       "    .dataframe tbody tr th {\n",
       "        vertical-align: top;\n",
       "    }\n",
       "\n",
       "    .dataframe thead th {\n",
       "        text-align: right;\n",
       "    }\n",
       "</style>\n",
       "<table border=\"1\" class=\"dataframe\">\n",
       "  <thead>\n",
       "    <tr style=\"text-align: right;\">\n",
       "      <th></th>\n",
       "      <th>MOSTYPE</th>\n",
       "      <th>MAANTHUI</th>\n",
       "      <th>MGEMOMV</th>\n",
       "      <th>MGEMLEEF</th>\n",
       "      <th>MOSHOOFD</th>\n",
       "      <th>MGODRK</th>\n",
       "      <th>MGODPR</th>\n",
       "      <th>MGODOV</th>\n",
       "      <th>MGODGE</th>\n",
       "      <th>MRELGE</th>\n",
       "      <th>...</th>\n",
       "      <th>APERSONG</th>\n",
       "      <th>AGEZONG</th>\n",
       "      <th>AWAOREG</th>\n",
       "      <th>ABRAND</th>\n",
       "      <th>AZEILPL</th>\n",
       "      <th>APLEZIER</th>\n",
       "      <th>AFIETS</th>\n",
       "      <th>AINBOED</th>\n",
       "      <th>ABYSTAND</th>\n",
       "      <th>Purchase</th>\n",
       "    </tr>\n",
       "  </thead>\n",
       "  <tbody>\n",
       "    <tr>\n",
       "      <th>0</th>\n",
       "      <td>33</td>\n",
       "      <td>1</td>\n",
       "      <td>3</td>\n",
       "      <td>2</td>\n",
       "      <td>8</td>\n",
       "      <td>0</td>\n",
       "      <td>5</td>\n",
       "      <td>1</td>\n",
       "      <td>3</td>\n",
       "      <td>7</td>\n",
       "      <td>...</td>\n",
       "      <td>0</td>\n",
       "      <td>0</td>\n",
       "      <td>0</td>\n",
       "      <td>1</td>\n",
       "      <td>0</td>\n",
       "      <td>0</td>\n",
       "      <td>0</td>\n",
       "      <td>0</td>\n",
       "      <td>0</td>\n",
       "      <td>No</td>\n",
       "    </tr>\n",
       "    <tr>\n",
       "      <th>1</th>\n",
       "      <td>37</td>\n",
       "      <td>1</td>\n",
       "      <td>2</td>\n",
       "      <td>2</td>\n",
       "      <td>8</td>\n",
       "      <td>1</td>\n",
       "      <td>4</td>\n",
       "      <td>1</td>\n",
       "      <td>4</td>\n",
       "      <td>6</td>\n",
       "      <td>...</td>\n",
       "      <td>0</td>\n",
       "      <td>0</td>\n",
       "      <td>0</td>\n",
       "      <td>1</td>\n",
       "      <td>0</td>\n",
       "      <td>0</td>\n",
       "      <td>0</td>\n",
       "      <td>0</td>\n",
       "      <td>0</td>\n",
       "      <td>No</td>\n",
       "    </tr>\n",
       "    <tr>\n",
       "      <th>2</th>\n",
       "      <td>37</td>\n",
       "      <td>1</td>\n",
       "      <td>2</td>\n",
       "      <td>2</td>\n",
       "      <td>8</td>\n",
       "      <td>0</td>\n",
       "      <td>4</td>\n",
       "      <td>2</td>\n",
       "      <td>4</td>\n",
       "      <td>3</td>\n",
       "      <td>...</td>\n",
       "      <td>0</td>\n",
       "      <td>0</td>\n",
       "      <td>0</td>\n",
       "      <td>1</td>\n",
       "      <td>0</td>\n",
       "      <td>0</td>\n",
       "      <td>0</td>\n",
       "      <td>0</td>\n",
       "      <td>0</td>\n",
       "      <td>No</td>\n",
       "    </tr>\n",
       "    <tr>\n",
       "      <th>3</th>\n",
       "      <td>9</td>\n",
       "      <td>1</td>\n",
       "      <td>3</td>\n",
       "      <td>3</td>\n",
       "      <td>3</td>\n",
       "      <td>2</td>\n",
       "      <td>3</td>\n",
       "      <td>2</td>\n",
       "      <td>4</td>\n",
       "      <td>5</td>\n",
       "      <td>...</td>\n",
       "      <td>0</td>\n",
       "      <td>0</td>\n",
       "      <td>0</td>\n",
       "      <td>1</td>\n",
       "      <td>0</td>\n",
       "      <td>0</td>\n",
       "      <td>0</td>\n",
       "      <td>0</td>\n",
       "      <td>0</td>\n",
       "      <td>No</td>\n",
       "    </tr>\n",
       "    <tr>\n",
       "      <th>4</th>\n",
       "      <td>40</td>\n",
       "      <td>1</td>\n",
       "      <td>4</td>\n",
       "      <td>2</td>\n",
       "      <td>10</td>\n",
       "      <td>1</td>\n",
       "      <td>4</td>\n",
       "      <td>1</td>\n",
       "      <td>4</td>\n",
       "      <td>7</td>\n",
       "      <td>...</td>\n",
       "      <td>0</td>\n",
       "      <td>0</td>\n",
       "      <td>0</td>\n",
       "      <td>1</td>\n",
       "      <td>0</td>\n",
       "      <td>0</td>\n",
       "      <td>0</td>\n",
       "      <td>0</td>\n",
       "      <td>0</td>\n",
       "      <td>No</td>\n",
       "    </tr>\n",
       "  </tbody>\n",
       "</table>\n",
       "<p>5 rows × 86 columns</p>\n",
       "</div>"
      ],
      "text/plain": [
       "   MOSTYPE  MAANTHUI  MGEMOMV  MGEMLEEF  MOSHOOFD  MGODRK  MGODPR  MGODOV  \\\n",
       "0       33         1        3         2         8       0       5       1   \n",
       "1       37         1        2         2         8       1       4       1   \n",
       "2       37         1        2         2         8       0       4       2   \n",
       "3        9         1        3         3         3       2       3       2   \n",
       "4       40         1        4         2        10       1       4       1   \n",
       "\n",
       "   MGODGE  MRELGE  ...  APERSONG  AGEZONG  AWAOREG  ABRAND  AZEILPL  APLEZIER  \\\n",
       "0       3       7  ...         0        0        0       1        0         0   \n",
       "1       4       6  ...         0        0        0       1        0         0   \n",
       "2       4       3  ...         0        0        0       1        0         0   \n",
       "3       4       5  ...         0        0        0       1        0         0   \n",
       "4       4       7  ...         0        0        0       1        0         0   \n",
       "\n",
       "   AFIETS  AINBOED  ABYSTAND  Purchase  \n",
       "0       0        0         0        No  \n",
       "1       0        0         0        No  \n",
       "2       0        0         0        No  \n",
       "3       0        0         0        No  \n",
       "4       0        0         0        No  \n",
       "\n",
       "[5 rows x 86 columns]"
      ]
     },
     "execution_count": 5,
     "metadata": {},
     "output_type": "execute_result"
    }
   ],
   "source": [
    "df[:5]"
   ]
  },
  {
   "cell_type": "code",
   "execution_count": 6,
   "id": "3c0c9101",
   "metadata": {},
   "outputs": [],
   "source": [
    "train = df[:1000]\n",
    "test = df[1000:]"
   ]
  },
  {
   "cell_type": "code",
   "execution_count": 7,
   "id": "ae782b90",
   "metadata": {},
   "outputs": [
    {
     "data": {
      "text/plain": [
       "(1000, 86)"
      ]
     },
     "execution_count": 7,
     "metadata": {},
     "output_type": "execute_result"
    }
   ],
   "source": [
    "train.shape"
   ]
  },
  {
   "cell_type": "code",
   "execution_count": 8,
   "id": "3ad4e157",
   "metadata": {},
   "outputs": [
    {
     "data": {
      "text/plain": [
       "(4822, 86)"
      ]
     },
     "execution_count": 8,
     "metadata": {},
     "output_type": "execute_result"
    }
   ],
   "source": [
    "test.shape"
   ]
  },
  {
   "cell_type": "markdown",
   "id": "3ae6571a",
   "metadata": {},
   "source": [
    "1. Use 2 pivot tables to show that the variables PVRAAUT and AVRAAUT are highly unbalanced (having most rows belonging to a few categories). Remove these variables from the dataset."
   ]
  },
  {
   "cell_type": "code",
   "execution_count": 9,
   "id": "4eceec25",
   "metadata": {},
   "outputs": [
    {
     "data": {
      "text/plain": [
       "0    5813\n",
       "6       7\n",
       "4       1\n",
       "9       1\n",
       "Name: PVRAAUT, dtype: int64"
      ]
     },
     "execution_count": 9,
     "metadata": {},
     "output_type": "execute_result"
    }
   ],
   "source": [
    "# highly unbalanced\n",
    "df.PVRAAUT.value_counts()"
   ]
  },
  {
   "cell_type": "code",
   "execution_count": 10,
   "id": "f63cbf89",
   "metadata": {},
   "outputs": [
    {
     "data": {
      "text/plain": [
       "0    5813\n",
       "1       6\n",
       "2       2\n",
       "3       1\n",
       "Name: AVRAAUT, dtype: int64"
      ]
     },
     "execution_count": 10,
     "metadata": {},
     "output_type": "execute_result"
    }
   ],
   "source": [
    "# highly unbalanced\n",
    "df.AVRAAUT.value_counts()"
   ]
  },
  {
   "cell_type": "code",
   "execution_count": 11,
   "id": "43eea04c",
   "metadata": {},
   "outputs": [
    {
     "data": {
      "text/html": [
       "<div>\n",
       "<style scoped>\n",
       "    .dataframe tbody tr th:only-of-type {\n",
       "        vertical-align: middle;\n",
       "    }\n",
       "\n",
       "    .dataframe tbody tr th {\n",
       "        vertical-align: top;\n",
       "    }\n",
       "\n",
       "    .dataframe thead th {\n",
       "        text-align: right;\n",
       "    }\n",
       "</style>\n",
       "<table border=\"1\" class=\"dataframe\">\n",
       "  <thead>\n",
       "    <tr style=\"text-align: right;\">\n",
       "      <th>AVRAAUT</th>\n",
       "      <th>0</th>\n",
       "    </tr>\n",
       "    <tr>\n",
       "      <th>PVRAAUT</th>\n",
       "      <th></th>\n",
       "    </tr>\n",
       "  </thead>\n",
       "  <tbody>\n",
       "    <tr>\n",
       "      <th>0</th>\n",
       "      <td>1000</td>\n",
       "    </tr>\n",
       "  </tbody>\n",
       "</table>\n",
       "</div>"
      ],
      "text/plain": [
       "AVRAAUT     0\n",
       "PVRAAUT      \n",
       "0        1000"
      ]
     },
     "execution_count": 11,
     "metadata": {},
     "output_type": "execute_result"
    }
   ],
   "source": [
    "# training set\n",
    "pd.crosstab(train['PVRAAUT'], train['AVRAAUT'])"
   ]
  },
  {
   "cell_type": "code",
   "execution_count": 12,
   "id": "684cb146",
   "metadata": {},
   "outputs": [
    {
     "data": {
      "text/html": [
       "<div>\n",
       "<style scoped>\n",
       "    .dataframe tbody tr th:only-of-type {\n",
       "        vertical-align: middle;\n",
       "    }\n",
       "\n",
       "    .dataframe tbody tr th {\n",
       "        vertical-align: top;\n",
       "    }\n",
       "\n",
       "    .dataframe thead th {\n",
       "        text-align: right;\n",
       "    }\n",
       "</style>\n",
       "<table border=\"1\" class=\"dataframe\">\n",
       "  <thead>\n",
       "    <tr style=\"text-align: right;\">\n",
       "      <th>AVRAAUT</th>\n",
       "      <th>0</th>\n",
       "      <th>1</th>\n",
       "      <th>2</th>\n",
       "      <th>3</th>\n",
       "    </tr>\n",
       "    <tr>\n",
       "      <th>PVRAAUT</th>\n",
       "      <th></th>\n",
       "      <th></th>\n",
       "      <th></th>\n",
       "      <th></th>\n",
       "    </tr>\n",
       "  </thead>\n",
       "  <tbody>\n",
       "    <tr>\n",
       "      <th>0</th>\n",
       "      <td>4813</td>\n",
       "      <td>0</td>\n",
       "      <td>0</td>\n",
       "      <td>0</td>\n",
       "    </tr>\n",
       "    <tr>\n",
       "      <th>4</th>\n",
       "      <td>0</td>\n",
       "      <td>1</td>\n",
       "      <td>0</td>\n",
       "      <td>0</td>\n",
       "    </tr>\n",
       "    <tr>\n",
       "      <th>6</th>\n",
       "      <td>0</td>\n",
       "      <td>5</td>\n",
       "      <td>2</td>\n",
       "      <td>0</td>\n",
       "    </tr>\n",
       "    <tr>\n",
       "      <th>9</th>\n",
       "      <td>0</td>\n",
       "      <td>0</td>\n",
       "      <td>0</td>\n",
       "      <td>1</td>\n",
       "    </tr>\n",
       "  </tbody>\n",
       "</table>\n",
       "</div>"
      ],
      "text/plain": [
       "AVRAAUT     0  1  2  3\n",
       "PVRAAUT               \n",
       "0        4813  0  0  0\n",
       "4           0  1  0  0\n",
       "6           0  5  2  0\n",
       "9           0  0  0  1"
      ]
     },
     "execution_count": 12,
     "metadata": {},
     "output_type": "execute_result"
    }
   ],
   "source": [
    "# test set\n",
    "pd.crosstab(test['PVRAAUT'], test['AVRAAUT'])"
   ]
  },
  {
   "cell_type": "code",
   "execution_count": 13,
   "id": "8938fc06",
   "metadata": {},
   "outputs": [
    {
     "data": {
      "text/html": [
       "<div>\n",
       "<style scoped>\n",
       "    .dataframe tbody tr th:only-of-type {\n",
       "        vertical-align: middle;\n",
       "    }\n",
       "\n",
       "    .dataframe tbody tr th {\n",
       "        vertical-align: top;\n",
       "    }\n",
       "\n",
       "    .dataframe thead th {\n",
       "        text-align: right;\n",
       "    }\n",
       "</style>\n",
       "<table border=\"1\" class=\"dataframe\">\n",
       "  <thead>\n",
       "    <tr style=\"text-align: right;\">\n",
       "      <th>AVRAAUT</th>\n",
       "      <th>0</th>\n",
       "      <th>1</th>\n",
       "      <th>2</th>\n",
       "      <th>3</th>\n",
       "    </tr>\n",
       "    <tr>\n",
       "      <th>PVRAAUT</th>\n",
       "      <th></th>\n",
       "      <th></th>\n",
       "      <th></th>\n",
       "      <th></th>\n",
       "    </tr>\n",
       "  </thead>\n",
       "  <tbody>\n",
       "    <tr>\n",
       "      <th>0</th>\n",
       "      <td>5813</td>\n",
       "      <td>0</td>\n",
       "      <td>0</td>\n",
       "      <td>0</td>\n",
       "    </tr>\n",
       "    <tr>\n",
       "      <th>4</th>\n",
       "      <td>0</td>\n",
       "      <td>1</td>\n",
       "      <td>0</td>\n",
       "      <td>0</td>\n",
       "    </tr>\n",
       "    <tr>\n",
       "      <th>6</th>\n",
       "      <td>0</td>\n",
       "      <td>5</td>\n",
       "      <td>2</td>\n",
       "      <td>0</td>\n",
       "    </tr>\n",
       "    <tr>\n",
       "      <th>9</th>\n",
       "      <td>0</td>\n",
       "      <td>0</td>\n",
       "      <td>0</td>\n",
       "      <td>1</td>\n",
       "    </tr>\n",
       "  </tbody>\n",
       "</table>\n",
       "</div>"
      ],
      "text/plain": [
       "AVRAAUT     0  1  2  3\n",
       "PVRAAUT               \n",
       "0        5813  0  0  0\n",
       "4           0  1  0  0\n",
       "6           0  5  2  0\n",
       "9           0  0  0  1"
      ]
     },
     "execution_count": 13,
     "metadata": {},
     "output_type": "execute_result"
    }
   ],
   "source": [
    "# all set\n",
    "pd.crosstab(df['PVRAAUT'], df['AVRAAUT'])"
   ]
  },
  {
   "cell_type": "code",
   "execution_count": 14,
   "id": "8bdb67e2",
   "metadata": {},
   "outputs": [],
   "source": [
    "# remove these variables from the dataset\n",
    "X_train = train.drop(['PVRAAUT', 'AVRAAUT', 'Purchase'], axis = 1)\n",
    "y_train = train['Purchase']"
   ]
  },
  {
   "cell_type": "code",
   "execution_count": 15,
   "id": "1fff3179",
   "metadata": {},
   "outputs": [],
   "source": [
    "X_test = test.drop(['PVRAAUT', 'AVRAAUT', 'Purchase'], axis = 1)\n",
    "y_test = test['Purchase']"
   ]
  },
  {
   "cell_type": "markdown",
   "id": "b9840ba8",
   "metadata": {},
   "source": [
    "2. Fit a random forest model with 500 trees and max_features = 29 to the training set with Purchase as the response and the other variables as predictors. Use random_state = 1. What predictor appears to be the most important? Report the test accuracy rate."
   ]
  },
  {
   "cell_type": "code",
   "execution_count": 16,
   "id": "f599db6e",
   "metadata": {},
   "outputs": [
    {
     "data": {
      "text/plain": [
       "0.9398589796764828"
      ]
     },
     "execution_count": 16,
     "metadata": {},
     "output_type": "execute_result"
    }
   ],
   "source": [
    "forest = RandomForestClassifier(max_features = 29, n_estimators = 500,\n",
    "                                max_depth = 4, random_state = 1)\n",
    "forest.fit(X_train, y_train)\n",
    "forest.score(X_test, y_test)"
   ]
  },
  {
   "cell_type": "code",
   "execution_count": 17,
   "id": "5aab7477",
   "metadata": {},
   "outputs": [],
   "source": [
    "# test accuracy rate is 0.9399"
   ]
  },
  {
   "cell_type": "code",
   "execution_count": 18,
   "id": "2ba1e145",
   "metadata": {},
   "outputs": [
    {
     "data": {
      "text/html": [
       "<div>\n",
       "<style scoped>\n",
       "    .dataframe tbody tr th:only-of-type {\n",
       "        vertical-align: middle;\n",
       "    }\n",
       "\n",
       "    .dataframe tbody tr th {\n",
       "        vertical-align: top;\n",
       "    }\n",
       "\n",
       "    .dataframe thead th {\n",
       "        text-align: right;\n",
       "    }\n",
       "</style>\n",
       "<table border=\"1\" class=\"dataframe\">\n",
       "  <thead>\n",
       "    <tr style=\"text-align: right;\">\n",
       "      <th></th>\n",
       "      <th>Importance</th>\n",
       "    </tr>\n",
       "  </thead>\n",
       "  <tbody>\n",
       "    <tr>\n",
       "      <th>PPLEZIER</th>\n",
       "      <td>7.980204</td>\n",
       "    </tr>\n",
       "    <tr>\n",
       "      <th>PPERSAUT</th>\n",
       "      <td>7.740589</td>\n",
       "    </tr>\n",
       "    <tr>\n",
       "      <th>APLEZIER</th>\n",
       "      <td>5.469169</td>\n",
       "    </tr>\n",
       "    <tr>\n",
       "      <th>MKOOPKLA</th>\n",
       "      <td>3.954903</td>\n",
       "    </tr>\n",
       "    <tr>\n",
       "      <th>MOPLHOOG</th>\n",
       "      <td>3.715494</td>\n",
       "    </tr>\n",
       "  </tbody>\n",
       "</table>\n",
       "</div>"
      ],
      "text/plain": [
       "          Importance\n",
       "PPLEZIER    7.980204\n",
       "PPERSAUT    7.740589\n",
       "APLEZIER    5.469169\n",
       "MKOOPKLA    3.954903\n",
       "MOPLHOOG    3.715494"
      ]
     },
     "execution_count": 18,
     "metadata": {},
     "output_type": "execute_result"
    }
   ],
   "source": [
    "df2 = pd.DataFrame(forest.feature_importances_*100,\n",
    "                   index = X_train.columns,\n",
    "                   columns = ['Importance'])\n",
    "df2 = df2.sort_values(by = 'Importance', axis = 0, ascending = False)\n",
    "df2[:5]"
   ]
  },
  {
   "cell_type": "code",
   "execution_count": 19,
   "id": "8a93e833",
   "metadata": {},
   "outputs": [
    {
     "data": {
      "image/png": "[encoded data removed]",
      "text/plain": [
       "<Figure size 720x1008 with 1 Axes>"
      ]
     },
     "metadata": {
      "needs_background": "light"
     },
     "output_type": "display_data"
    }
   ],
   "source": [
    "df2 = df2.sort_values(by = 'Importance', axis = 0)\n",
    "df2.plot(kind = 'barh', color = 'r', legend = False, figsize = (10,14))\n",
    "plt.xlabel('Importance')\n",
    "plt.grid()\n",
    "# 'PPLEZIER' is the most important"
   ]
  },
  {
   "cell_type": "markdown",
   "id": "6fe44f78",
   "metadata": {},
   "source": [
    "3. Fit a boosting model to the training set with max_depth = 4 and Purchase as the response and the other variables as predictors. Use 1000 trees, and learning rate 0.01. What predictor appears to be the most important? Report the test accuracy rate."
   ]
  },
  {
   "cell_type": "code",
   "execution_count": 20,
   "id": "5c39ab70",
   "metadata": {},
   "outputs": [
    {
     "data": {
      "text/plain": [
       "0.9332227291580257"
      ]
     },
     "execution_count": 20,
     "metadata": {},
     "output_type": "execute_result"
    }
   ],
   "source": [
    "boosting = GradientBoostingClassifier(n_estimators = 1000,\n",
    "                                      learning_rate = 0.01,\n",
    "                                      max_depth = 4, random_state = 1)\n",
    "boosting.fit(X_train, y_train)\n",
    "boosting.score(X_test, y_test)"
   ]
  },
  {
   "cell_type": "code",
   "execution_count": 21,
   "id": "1e158de3",
   "metadata": {},
   "outputs": [],
   "source": [
    "# test accuracy rate is 0.9332"
   ]
  },
  {
   "cell_type": "code",
   "execution_count": 22,
   "id": "551c631e",
   "metadata": {},
   "outputs": [
    {
     "data": {
      "text/html": [
       "<div>\n",
       "<style scoped>\n",
       "    .dataframe tbody tr th:only-of-type {\n",
       "        vertical-align: middle;\n",
       "    }\n",
       "\n",
       "    .dataframe tbody tr th {\n",
       "        vertical-align: top;\n",
       "    }\n",
       "\n",
       "    .dataframe thead th {\n",
       "        text-align: right;\n",
       "    }\n",
       "</style>\n",
       "<table border=\"1\" class=\"dataframe\">\n",
       "  <thead>\n",
       "    <tr style=\"text-align: right;\">\n",
       "      <th></th>\n",
       "      <th>Importance</th>\n",
       "    </tr>\n",
       "  </thead>\n",
       "  <tbody>\n",
       "    <tr>\n",
       "      <th>PPERSAUT</th>\n",
       "      <td>6.735328</td>\n",
       "    </tr>\n",
       "    <tr>\n",
       "      <th>MOSTYPE</th>\n",
       "      <td>5.697374</td>\n",
       "    </tr>\n",
       "    <tr>\n",
       "      <th>MOPLHOOG</th>\n",
       "      <td>5.001042</td>\n",
       "    </tr>\n",
       "    <tr>\n",
       "      <th>MGODGE</th>\n",
       "      <td>4.953308</td>\n",
       "    </tr>\n",
       "    <tr>\n",
       "      <th>MKOOPKLA</th>\n",
       "      <td>4.598013</td>\n",
       "    </tr>\n",
       "  </tbody>\n",
       "</table>\n",
       "</div>"
      ],
      "text/plain": [
       "          Importance\n",
       "PPERSAUT    6.735328\n",
       "MOSTYPE     5.697374\n",
       "MOPLHOOG    5.001042\n",
       "MGODGE      4.953308\n",
       "MKOOPKLA    4.598013"
      ]
     },
     "execution_count": 22,
     "metadata": {},
     "output_type": "execute_result"
    }
   ],
   "source": [
    "df3 = pd.DataFrame(boosting.feature_importances_*100,\n",
    "                   index = X_train.columns,\n",
    "                   columns = ['Importance'])\n",
    "df3 = df3.sort_values(by = 'Importance', axis = 0, ascending = False)\n",
    "df3[:5]"
   ]
  },
  {
   "cell_type": "code",
   "execution_count": 23,
   "id": "7b1633be",
   "metadata": {},
   "outputs": [
    {
     "data": {
      "image/png": "[encoded data removed]",
      "text/plain": [
       "<Figure size 720x1008 with 1 Axes>"
      ]
     },
     "metadata": {
      "needs_background": "light"
     },
     "output_type": "display_data"
    }
   ],
   "source": [
    "df3 = df3.sort_values(by = 'Importance', axis = 0)\n",
    "df3.plot(kind = 'barh', color = 'r', legend = False, figsize = (10,14))\n",
    "plt.xlabel('Importance')\n",
    "plt.grid()\n",
    "# 'PPERSAUT' is the most important"
   ]
  },
  {
   "cell_type": "markdown",
   "id": "b5557536",
   "metadata": {},
   "source": [
    "4. Report the test accuracy rate when KNN is used to predict Purchase. Use 5-fold cross validation to find the best number of neighbors."
   ]
  },
  {
   "cell_type": "code",
   "execution_count": 24,
   "id": "664fd00e",
   "metadata": {},
   "outputs": [],
   "source": [
    "# use 5-fold cross validation to find the best number of neighbors"
   ]
  },
  {
   "cell_type": "code",
   "execution_count": 25,
   "id": "56a767a5",
   "metadata": {},
   "outputs": [],
   "source": [
    "from sklearn.preprocessing import MinMaxScaler"
   ]
  },
  {
   "cell_type": "code",
   "execution_count": 26,
   "id": "381ff8d8",
   "metadata": {},
   "outputs": [],
   "source": [
    "kfold = StratifiedKFold(n_splits = 5, shuffle = True, random_state = 1)"
   ]
  },
  {
   "cell_type": "code",
   "execution_count": 27,
   "id": "d76a4d3b",
   "metadata": {},
   "outputs": [],
   "source": [
    "train_acc_rate = []\n",
    "nn = range(1,10)\n",
    "for k in nn:\n",
    "    scaler = MinMaxScaler()\n",
    "    KNN = KNeighborsClassifier(n_neighbors = k)\n",
    "    pipe = Pipeline([('transformer', scaler), ('estimator', KNN)])\n",
    "    scores = cross_val_score(pipe, X_train, y_train, cv = kfold)\n",
    "    train_acc_rate.append(scores.mean())"
   ]
  },
  {
   "cell_type": "code",
   "execution_count": 28,
   "id": "715a0e71",
   "metadata": {},
   "outputs": [
    {
     "data": {
      "text/plain": [
       "0.9410000000000001"
      ]
     },
     "execution_count": 28,
     "metadata": {},
     "output_type": "execute_result"
    }
   ],
   "source": [
    "max4 = max(train_acc_rate)\n",
    "max4"
   ]
  },
  {
   "cell_type": "code",
   "execution_count": 29,
   "id": "b407ef85",
   "metadata": {},
   "outputs": [
    {
     "data": {
      "text/plain": [
       "5"
      ]
     },
     "execution_count": 29,
     "metadata": {},
     "output_type": "execute_result"
    }
   ],
   "source": [
    "train_acc_rate.index(max4)"
   ]
  },
  {
   "cell_type": "code",
   "execution_count": 30,
   "id": "1d808547",
   "metadata": {},
   "outputs": [],
   "source": [
    "# 5-fold cross validation selects k=6 neighbors"
   ]
  },
  {
   "cell_type": "code",
   "execution_count": 31,
   "id": "d4f2dd69",
   "metadata": {},
   "outputs": [
    {
     "data": {
      "image/png": "[encoded data removed]",
      "text/plain": [
       "<Figure size 720x360 with 1 Axes>"
      ]
     },
     "metadata": {
      "needs_background": "light"
     },
     "output_type": "display_data"
    }
   ],
   "source": [
    "plt.figure(figsize = (10,5))\n",
    "plt.plot(nn, train_acc_rate)\n",
    "plt.ylabel('Accuracy Rate')\n",
    "plt.xlabel('Number of Neighbors')\n",
    "plt.annotate(max4, (5.5, 0.935))\n",
    "plt.grid()"
   ]
  },
  {
   "cell_type": "code",
   "execution_count": 32,
   "id": "db6b202e",
   "metadata": {},
   "outputs": [],
   "source": [
    "# report the test accuracy rate"
   ]
  },
  {
   "cell_type": "code",
   "execution_count": 33,
   "id": "becc2659",
   "metadata": {},
   "outputs": [],
   "source": [
    "# scale the data\n",
    "scaler = MinMaxScaler()"
   ]
  },
  {
   "cell_type": "code",
   "execution_count": 34,
   "id": "0f322ff5",
   "metadata": {},
   "outputs": [
    {
     "data": {
      "text/plain": [
       "MinMaxScaler()"
      ]
     },
     "execution_count": 34,
     "metadata": {},
     "output_type": "execute_result"
    }
   ],
   "source": [
    "scaler.fit(X_train)"
   ]
  },
  {
   "cell_type": "code",
   "execution_count": 35,
   "id": "fbbed92d",
   "metadata": {},
   "outputs": [],
   "source": [
    "X_train_scaled = scaler.transform(X_train)\n",
    "X_test_scaled = scaler.transform(X_test)"
   ]
  },
  {
   "cell_type": "code",
   "execution_count": 36,
   "id": "f0aec68a",
   "metadata": {},
   "outputs": [
    {
     "data": {
      "text/plain": [
       "0.9400663625051846"
      ]
     },
     "execution_count": 36,
     "metadata": {},
     "output_type": "execute_result"
    }
   ],
   "source": [
    "KNN = KNeighborsClassifier(n_neighbors = 6)\n",
    "KNN.fit(X_train_scaled, y_train)\n",
    "KNN.score(X_test_scaled, y_test)"
   ]
  },
  {
   "cell_type": "code",
   "execution_count": 37,
   "id": "237fa4f8",
   "metadata": {},
   "outputs": [],
   "source": [
    "# the test accuracy rate is 0.9401"
   ]
  },
  {
   "cell_type": "markdown",
   "id": "32b9dd7b",
   "metadata": {},
   "source": [
    "5. Find the test accuracy rate when logistic regression is used to predict Purchase."
   ]
  },
  {
   "cell_type": "code",
   "execution_count": 38,
   "id": "216a2b34",
   "metadata": {},
   "outputs": [
    {
     "data": {
      "text/plain": [
       "0.9400663625051846"
      ]
     },
     "execution_count": 38,
     "metadata": {},
     "output_type": "execute_result"
    }
   ],
   "source": [
    "LG = LogisticRegression(solver = 'lbfgs')\n",
    "LG.fit(X_train_scaled, y_train)\n",
    "LG.score(X_test_scaled, y_test)"
   ]
  },
  {
   "cell_type": "code",
   "execution_count": 39,
   "id": "10d1cde2",
   "metadata": {},
   "outputs": [],
   "source": [
    "# the test accuracy rate is 0.9401"
   ]
  }
 ],
 "metadata": {
  "kernelspec": {
   "display_name": "Python 3",
   "language": "python",
   "name": "python3"
  },
  "language_info": {
   "codemirror_mode": {
    "name": "ipython",
    "version": 3
   },
   "file_extension": ".py",
   "mimetype": "text/x-python",
   "name": "python",
   "nbconvert_exporter": "python",
   "pygments_lexer": "ipython3",
   "version": "3.8.8"
  }
 },
 "nbformat": 4,
 "nbformat_minor": 5
}
